{
 "cells": [
  {
   "cell_type": "code",
   "execution_count": 2,
   "id": "5c9d5212-8850-4f0e-8ec1-483adec4e6be",
   "metadata": {},
   "outputs": [
    {
     "name": "stdout",
     "output_type": "stream",
     "text": [
      "Counter({'제21대': 22692, '제20대': 9882, '제19대': 3934, '제18대': 1294})\n"
     ]
    }
   ],
   "source": [
    "import os\n",
    "import json\n",
    "from collections import Counter\n",
    "\n",
    "# Path to the directory containing the candidate JSON files\n",
    "directory_path = \"/Users/seunghyunmoon/Code/Toy/vote_player_server/data/candidates\"\n",
    "\n",
    "# Initialize a Counter to keep track of committee occurrences\n",
    "committee_counts = Counter()\n",
    "\n",
    "# Iterate over each file in the directory\n",
    "for filename in os.listdir(directory_path):\n",
    "    if filename.endswith(\".json\"):\n",
    "        file_path = os.path.join(directory_path, filename)\n",
    "        with open(file_path, 'r') as file:\n",
    "            data = json.load(file)\n",
    "            # Extract the 'nth' field from each bill\n",
    "            committees = [bill['nth'] for bill in data['bills']]\n",
    "            # Update the Counter with the committees from this file\n",
    "            committee_counts.update(committees)\n",
    "\n",
    "# Print the count of each committee\n",
    "print(committee_counts)"
   ]
  },
  {
   "cell_type": "code",
   "execution_count": null,
   "id": "fd956a9c-3a9b-4ce3-b578-508ce339c415",
   "metadata": {},
   "outputs": [],
   "source": []
  }
 ],
 "metadata": {
  "kernelspec": {
   "display_name": "Python 3 (ipykernel)",
   "language": "python",
   "name": "python3"
  },
  "language_info": {
   "codemirror_mode": {
    "name": "ipython",
    "version": 3
   },
   "file_extension": ".py",
   "mimetype": "text/x-python",
   "name": "python",
   "nbconvert_exporter": "python",
   "pygments_lexer": "ipython3",
   "version": "3.12.1"
  }
 },
 "nbformat": 4,
 "nbformat_minor": 5
}
