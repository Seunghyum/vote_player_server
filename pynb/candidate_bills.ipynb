{
 "cells": [
  {
   "cell_type": "markdown",
   "id": "25a646e7-da39-4999-9506-196d02a8cca6",
   "metadata": {},
   "source": [
    "법안별 위원회 이름 count 추출 코드"
   ]
  },
  {
   "cell_type": "code",
   "execution_count": 30,
   "id": "90d80ded-b46c-4042-b972-7854b3aa6c13",
   "metadata": {},
   "outputs": [
    {
     "name": "stdout",
     "output_type": "stream",
     "text": [
      "[('국토교통위원회', 42), ('국방위원회', 39), ('기획재정위원회', 10), ('보건복지위원회', 9), ('행정안전위원회', 8), ('환경노동위원회', 4), ('과학기술정보방송통신위원회', 4), ('정무위원회', 4), ('농림축산식품해양수산위원회', 4), ('법제사법위원회', 3), ('교육위원회', 2), ('여성가족위원회', 1)]\n"
     ]
    }
   ],
   "source": [
    "import json\n",
    "from collections import Counter\n",
    "\n",
    "file_path = \"/Users/seunghyunmoon/Code/Toy/vote_player_server/data/candidates/KANGDAESIK.json\"\n",
    "\n",
    "with open(file_path, 'r') as file:\n",
    "    data = json.load(file)\n",
    "\n",
    "# 'data'는 'bills' 리스트를 포함하는 로드된 JSON 데이터라고 가정합니다.\n",
    "bills = data['bills']\n",
    "\n",
    "# 각 법안의 \"name\" 필드에서 키워드 추출\n",
    "keywords = [word for bill in bills for word in bill['committee'].split()]\n",
    "\n",
    "# 각 키워드의 발생 횟수를 계산\n",
    "keyword_counts = Counter(keywords)\n",
    "\n",
    "# 가장 흔한 키워드를 표시\n",
    "most_common_keywords = keyword_counts.most_common()\n",
    "\n",
    "print(most_common_keywords)\n"
   ]
  },
  {
   "cell_type": "code",
   "execution_count": 31,
   "id": "511e7167-ed16-46f0-86c4-2dac1aac3143",
   "metadata": {},
   "outputs": [
    {
     "name": "stdout",
     "output_type": "stream",
     "text": [
      "Counter({'국토교통위원회': 258, '행정안전위원회': 219, '보건복지위원회': 218, '법제사법위원회': 200, '산업통상자원중소벤처기업위원회': 170, '정무위원회': 166, '기획재정위원회': 141, '교육위원회': 138, '환경노동위원회': 121, '국방위원회': 67, '농림축산식품해양수산위원회': 43, '과학기술정보방송통신위원회': 42, '여성가족위원회': 37, '국회운영위원회': 37, '지식경제위원회': 30, '문화체육관광위원회': 26, '교육과학기술위원회': 25, '외교통일위원회': 20, '문화체육관광방송통신위원회': 13, '국토해양위원회': 11, '정치개혁특별위원회': 8, '교육문화체육관광위원회': 8, None: 7, '산업통상자원위원회': 3, '안전행정위원회': 2, '아동·여성대상 성폭력 대책 특별위원회': 2, '평창동계올림픽 및 국제경기대회지원특별위원회': 2, '정치개혁 특별위원회': 2, '미래창조과학방송통신위원회': 2, '외교통상통일위원회': 1, '농림수산식품위원회': 1})\n"
     ]
    }
   ],
   "source": [
    "import os\n",
    "import json\n",
    "from collections import Counter\n",
    "\n",
    "# Path to the directory containing the candidate JSON files\n",
    "directory_path = \"/Users/seunghyunmoon/Code/Toy/vote_player_server/data/candidates\"\n",
    "\n",
    "# Initialize a Counter to keep track of committee occurrences\n",
    "committee_counts = Counter()\n",
    "\n",
    "# Iterate over each file in the directory\n",
    "for filename in os.listdir(directory_path):\n",
    "    if filename.endswith(\".json\"):\n",
    "        file_path = os.path.join(directory_path, filename)\n",
    "        with open(file_path, 'r') as file:\n",
    "            data = json.load(file)\n",
    "            # Extract the 'committee' field from each bill\n",
    "            committees = [bill['committee'] for bill in data['bills']]\n",
    "            # Update the Counter with the committees from this file\n",
    "            committee_counts.update(committees)\n",
    "\n",
    "# Print the count of each committee\n",
    "print(committee_counts)"
   ]
  },
  {
   "cell_type": "code",
   "execution_count": 32,
   "id": "0c0cdb7a-2966-4790-a2b4-27b4703af77c",
   "metadata": {},
   "outputs": [
    {
     "name": "stdout",
     "output_type": "stream",
     "text": [
      "KangSeungKyoo.json: Counter({'문화체육관광방송통신위원회': 13, '행정안전위원회': 6, '국토해양위원회': 6, '산업통상자원중소벤처기업위원회': 3, '법제사법위원회': 2, '교육위원회': 2, '기획재정위원회': 2, '정무위원회': 2, '국방위원회': 2, '국토교통위원회': 1, '보건복지위원회': 1})\n",
      "KANGYUJUNG.json: Counter({'문화체육관광위원회': 18, '기획재정위원회': 3, '법제사법위원회': 3, '과학기술정보방송통신위원회': 2, '국회운영위원회': 2, '국토교통위원회': 1, '여성가족위원회': 1})\n",
      "KANGKYUNGSOOK.json: Counter({'교육위원회': 16, '보건복지위원회': 1, '국회운영위원회': 1, '환경노동위원회': 1, '여성가족위원회': 1})\n",
      "KWAKKYUTAEK.json: Counter({'법제사법위원회': 12, '기획재정위원회': 4, '환경노동위원회': 2, '행정안전위원회': 2})\n",
      "KIMNAMGEUN.json: Counter({'정무위원회': 16, '법제사법위원회': 2, '국토교통위원회': 2})\n",
      "KANGSUNYOUNG.json: Counter({'국방위원회': 12, '행정안전위원회': 6, '기획재정위원회': 2})\n",
      "KWONHYANGYUP.json: Counter({'행정안전위원회': 6, '산업통상자원중소벤처기업위원회': 6, '국토교통위원회': 4, '과학기술정보방송통신위원회': 2, '법제사법위원회': 2})\n",
      "KANGMINKUK.json: Counter({'정무위원회': 36, '농림축산식품해양수산위원회': 5, '과학기술정보방송통신위원회': 4, '기획재정위원회': 3, '법제사법위원회': 3, '보건복지위원회': 3, '행정안전위원회': 2, '여성가족위원회': 2, '국회운영위원회': 2, '국방위원회': 2, '산업통상자원중소벤처기업위원회': 1})\n",
      "KWONYOUNGSE.json: Counter({'국토교통위원회': 26, '행정안전위원회': 18, '환경노동위원회': 14, '법제사법위원회': 4, '보건복지위원회': 3, '기획재정위원회': 3, '농림축산식품해양수산위원회': 2, '과학기술정보방송통신위원회': 1, '외교통일위원회': 1, '산업통상자원중소벤처기업위원회': 1, '외교통상통일위원회': 1, '농림수산식품위원회': 1})\n",
      "KIMDAISIK.json: Counter({'교육위원회': 10})\n",
      "KANGSUNWOO.json: Counter({'보건복지위원회': 96, '법제사법위원회': 16, '여성가족위원회': 12, '행정안전위원회': 6, '국토교통위원회': 5, '정무위원회': 4, '기획재정위원회': 3, '교육위원회': 2, '과학기술정보방송통신위원회': 2, '환경노동위원회': 2, None: 1, '국회운영위원회': 1})\n",
      "KIMKYOHEUNG.json: Counter({'행정안전위원회': 33, '국토교통위원회': 26, '산업통상자원중소벤처기업위원회': 12, '교육위원회': 7, '법제사법위원회': 5, '보건복지위원회': 4, '정무위원회': 3})\n",
      "KANGJUNHYEON.json: Counter({'국토교통위원회': 24, '정무위원회': 19, '행정안전위원회': 9, '기획재정위원회': 7, '보건복지위원회': 6, '교육위원회': 6, '농림축산식품해양수산위원회': 5, '법제사법위원회': 5, '환경노동위원회': 3, '과학기술정보방송통신위원회': 2})\n",
      "KANGDAESIK.json: Counter({'국토교통위원회': 42, '국방위원회': 39, '기획재정위원회': 10, '보건복지위원회': 9, '행정안전위원회': 8, '환경노동위원회': 4, '과학기술정보방송통신위원회': 4, '정무위원회': 4, '농림축산식품해양수산위원회': 4, '법제사법위원회': 3, '교육위원회': 2, '여성가족위원회': 1})\n",
      "KANGHOONSIK.json: Counter({'국토교통위원회': 51, '보건복지위원회': 22, '산업통상자원중소벤처기업위원회': 15, '환경노동위원회': 13, '정무위원회': 11, '행정안전위원회': 11, '법제사법위원회': 9, '기획재정위원회': 8, '교육위원회': 6, '과학기술정보방송통신위원회': 4, '농림축산식품해양수산위원회': 4, '여성가족위원회': 2, '국방위원회': 2, '문화체육관광위원회': 2})\n",
      "KWONCHILSEUNG.json: Counter({'산업통상자원중소벤처기업위원회': 47, '법제사법위원회': 43, '정무위원회': 33, '행정안전위원회': 33, '보건복지위원회': 20, '기획재정위원회': 16, '환경노동위원회': 14, '농림축산식품해양수산위원회': 7, '국토교통위원회': 7, '교육위원회': 6, '국회운영위원회': 5, '국방위원회': 4, '과학기술정보방송통신위원회': 4, '외교통일위원회': 2, '정치개혁특별위원회': 2, None: 2, '문화체육관광위원회': 2, '안전행정위원회': 2, '여성가족위원회': 1})\n",
      "KIMNAMHEE.json: Counter({'보건복지위원회': 11, '여성가족위원회': 7, '법제사법위원회': 4, '기획재정위원회': 2, '행정안전위원회': 2, '환경노동위원회': 2})\n",
      "KwonYoungJin.json: Counter({'국토교통위원회': 30, '교육과학기술위원회': 24, '행정안전위원회': 7, '환경노동위원회': 4, '기획재정위원회': 4, '국회운영위원회': 4, '보건복지위원회': 3, '과학기술정보방송통신위원회': 1, '법제사법위원회': 1, '정치개혁특별위원회': 1, '여성가족위원회': 1})\n",
      "KUJAKEUN.json: Counter({'산업통상자원중소벤처기업위원회': 58, '기획재정위원회': 45, '행정안전위원회': 17, '정무위원회': 13, '국토교통위원회': 13, '법제사법위원회': 7, '보건복지위원회': 4, '국방위원회': 3, '외교통일위원회': 2, '교육위원회': 2, '문화체육관광위원회': 1, '농림축산식품해양수산위원회': 1, '국회운영위원회': 1})\n",
      "KANGMYOUNGGU.json: Counter({'정무위원회': 3, '국방위원회': 1, '교육위원회': 1, '여성가족위원회': 1})\n",
      "KWEONSEONGDONG.json: Counter({'법제사법위원회': 48, '행정안전위원회': 23, '환경노동위원회': 22, '기획재정위원회': 21, '정무위원회': 16, '보건복지위원회': 14, '지식경제위원회': 10, '농림축산식품해양수산위원회': 9, '국회운영위원회': 7, '과학기술정보방송통신위원회': 4, '국토교통위원회': 3, '정치개혁특별위원회': 3, '산업통상자원위원회': 3, '아동·여성대상 성폭력 대책 특별위원회': 2, '평창동계올림픽 및 국제경기대회지원특별위원회': 2, '문화체육관광위원회': 1, '교육문화체육관광위원회': 1, '여성가족위원회': 1})\n",
      "KIMGUNN.json: Counter({'외교통일위원회': 6, '법제사법위원회': 1, '국토교통위원회': 1, '기획재정위원회': 1})\n",
      "KIMGIHYEON.json: Counter({'지식경제위원회': 20, '법제사법위원회': 13, '행정안전위원회': 12, '환경노동위원회': 11, '국회운영위원회': 8, '국토교통위원회': 7, '보건복지위원회': 7, '교육문화체육관광위원회': 7, '외교통일위원회': 6, '기획재정위원회': 6, '국토해양위원회': 5, '여성가족위원회': 4, '과학기술정보방송통신위원회': 2, '정치개혁 특별위원회': 2, '정무위원회': 2, '정치개혁특별위원회': 2, '농림축산식품해양수산위원회': 2, '미래창조과학방송통신위원회': 2, '교육위원회': 1, '교육과학기술위원회': 1})\n",
      "KWAKSANGEON.json: Counter({'산업통상자원중소벤처기업위원회': 2, '법제사법위원회': 1})\n",
      "KOMINJUNG.json: Counter({'산업통상자원중소벤처기업위원회': 10, '과학기술정보방송통신위원회': 8, '보건복지위원회': 8, '교육위원회': 6, '법제사법위원회': 5, None: 4, '국회운영위원회': 4, '정무위원회': 4, '국토교통위원회': 4, '환경노동위원회': 3, '행정안전위원회': 2, '여성가족위원회': 1, '기획재정위원회': 1})\n",
      "KIMKIWOONG.json: Counter({'외교통일위원회': 3})\n",
      "KOHDONGJIN.json: Counter({'산업통상자원중소벤처기업위원회': 13, '법제사법위원회': 2, '환경노동위원회': 2, '여성가족위원회': 2, '국토교통위원회': 2, '국방위원회': 1, '과학기술정보방송통신위원회': 1, '문화체육관광위원회': 1})\n",
      "KANGDEUKGU.json: Counter({'교육위원회': 71, '환경노동위원회': 24, '행정안전위원회': 16, '법제사법위원회': 8, '보건복지위원회': 6, '국토교통위원회': 4, '농림축산식품해양수산위원회': 4, '산업통상자원중소벤처기업위원회': 2, '국회운영위원회': 2, '국방위원회': 1, '문화체육관광위원회': 1, '과학기술정보방송통신위원회': 1})\n",
      "KIMGIPYO.json: Counter({'국토교통위원회': 5, '법제사법위원회': 1})\n"
     ]
    }
   ],
   "source": [
    "import os\n",
    "import json\n",
    "from collections import Counter\n",
    "\n",
    "# Path to the directory containing the candidate JSON files\n",
    "directory_path = \"/Users/seunghyunmoon/Code/Toy/vote_player_server/data/candidates\"\n",
    "\n",
    "# Function to count committees in the 'bills' field of a JSON file\n",
    "def count_committees_in_file(file_path):\n",
    "    with open(file_path, 'r') as file:\n",
    "        data = json.load(file)\n",
    "        committees = [bill['committee'] for bill in data['bills']]\n",
    "        return Counter(committees)\n",
    "\n",
    "# Dictionary to hold committee counts for each candidate\n",
    "all_committee_counts = {}\n",
    "\n",
    "# Iterate over each file in the directory\n",
    "for filename in os.listdir(directory_path):\n",
    "    if filename.endswith(\".json\"):\n",
    "        file_path = os.path.join(directory_path, filename)\n",
    "        all_committee_counts[filename] = count_committees_in_file(file_path)\n",
    "\n",
    "# Print the count of each committee for each candidate\n",
    "for candidate, counts in all_committee_counts.items():\n",
    "    print(f\"{candidate}: {counts}\")"
   ]
  },
  {
   "cell_type": "markdown",
   "id": "958a0531-5e75-4aa9-9b24-4daa69a0e35a",
   "metadata": {},
   "source": [
    "billsStatistics 컬럼 json 파일 업데이트 코드"
   ]
  },
  {
   "cell_type": "code",
   "execution_count": 33,
   "id": "7f52a47f-0f67-4be4-9901-7b98708ce310",
   "metadata": {},
   "outputs": [],
   "source": [
    "import os\n",
    "import json\n",
    "from collections import Counter\n",
    "\n",
    "# Path to the directory containing the candidate JSON files\n",
    "input_directory_path = \"/Users/seunghyunmoon/Code/Toy/vote_player_server/data/candidates\"\n",
    "output_directory_path = \"/Users/seunghyunmoon/Code/Toy/vote_player_server/data/candidates2\"\n",
    "\n",
    "# Ensure the output directory exists\n",
    "if not os.path.exists(output_directory_path):\n",
    "    os.makedirs(output_directory_path)\n",
    "\n",
    "# Function to add billsStatistics to the JSON data\n",
    "def add_bills_statistics_to_data(data):\n",
    "    committees = [bill['committee'] for bill in data['bills'] if bill.get('committee') and bill['committee'] != None]\n",
    "    committee_counts = Counter(committees)\n",
    "    # Convert the committee counts to the specified format and sort by value\n",
    "    bills_statistics = [{\"name\": committee, \"value\": count} for committee, count in committee_counts.items()]\n",
    "    bills_statistics.sort(key=lambda x: x['value'], reverse=True)\n",
    "    data['billsStatistics'] = bills_statistics\n",
    "    return data\n",
    "\n",
    "# Iterate over each file in the directory\n",
    "for filename in os.listdir(input_directory_path):\n",
    "    if filename.endswith(\".json\"):\n",
    "        input_file_path = os.path.join(input_directory_path, filename)\n",
    "        output_file_path = os.path.join(output_directory_path, filename)\n",
    "        \n",
    "        with open(input_file_path, 'r', encoding='utf-8') as file:\n",
    "            data = json.load(file)\n",
    "        \n",
    "        updated_data = add_bills_statistics_to_data(data)\n",
    "        \n",
    "        with open(output_file_path, 'w', encoding='utf-8') as file:\n",
    "            json.dump(updated_data, file, ensure_ascii=False, indent=4)\n"
   ]
  },
  {
   "cell_type": "markdown",
   "id": "0f64aa39-bd90-487a-87ca-19aaf41ce2dc",
   "metadata": {},
   "source": [
    "billsStatistics 필드의 unique name을 추출하는 코드"
   ]
  },
  {
   "cell_type": "code",
   "execution_count": 34,
   "id": "40accf92-4c88-4e70-9ba0-b720bcc02266",
   "metadata": {},
   "outputs": [
    {
     "name": "stdout",
     "output_type": "stream",
     "text": [
      "set()\n"
     ]
    }
   ],
   "source": [
    "import os\n",
    "import json\n",
    "\n",
    "# Path to the directory containing the candidate JSON files\n",
    "directory_path = \"/Users/seunghyunmoon/Code/Toy/vote_player_server/data/candidates\"\n",
    "\n",
    "# Set to store unique committee names\n",
    "unique_committee_names = set()\n",
    "\n",
    "# Iterate over each file in the directory\n",
    "for filename in os.listdir(directory_path):\n",
    "    if filename.endswith(\".json\"):\n",
    "        file_path = os.path.join(directory_path, filename)\n",
    "        with open(file_path, 'r', encoding='utf-8') as file:\n",
    "            data = json.load(file)\n",
    "            # Extract the 'name' field from each entry in billsStatistics\n",
    "            committee_names = [entry['name'] for entry in data.get('billsStatistics', [])]\n",
    "            # Update the set with the committee names from this file\n",
    "            unique_committee_names.update(committee_names)\n",
    "\n",
    "# Print the unique committee names\n",
    "print(unique_committee_names)"
   ]
  },
  {
   "cell_type": "code",
   "execution_count": null,
   "id": "1085641e-e0eb-40e6-a237-0f1cb0f17746",
   "metadata": {},
   "outputs": [],
   "source": []
  }
 ],
 "metadata": {
  "kernelspec": {
   "display_name": "Python 3 (ipykernel)",
   "language": "python",
   "name": "python3"
  },
  "language_info": {
   "codemirror_mode": {
    "name": "ipython",
    "version": 3
   },
   "file_extension": ".py",
   "mimetype": "text/x-python",
   "name": "python",
   "nbconvert_exporter": "python",
   "pygments_lexer": "ipython3",
   "version": "3.12.1"
  }
 },
 "nbformat": 4,
 "nbformat_minor": 5
}
