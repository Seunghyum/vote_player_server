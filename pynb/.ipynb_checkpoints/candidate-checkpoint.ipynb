{
 "cells": [
  {
   "cell_type": "markdown",
   "id": "25a646e7-da39-4999-9506-196d02a8cca6",
   "metadata": {},
   "source": [
    "법안별 위원회 이름 count 추출 코드"
   ]
  },
  {
   "cell_type": "code",
   "execution_count": 2,
   "id": "90d80ded-b46c-4042-b972-7854b3aa6c13",
   "metadata": {},
   "outputs": [
    {
     "name": "stdout",
     "output_type": "stream",
     "text": [
      "[('보건복지위원회', 11), ('정무위원회', 6), ('과학기술정보방송통신위원회', 3), ('국토교통위원회', 3), ('행정안전위원회', 3), ('기획재정위원회', 3), ('산업통상자원중소벤처기업위원회', 2), ('농림축산식품해양수산위원회', 2), ('산업통상자원위원회', 2), ('안전행정위원회', 2), ('환경노동위원회', 1), ('문화체육관광위원회', 1), ('법제사법위원회', 1)]\n"
     ]
    }
   ],
   "source": [
    "import json\n",
    "from collections import Counter\n",
    "\n",
    "file_path = \"/Users/seunghyunmoon/Code/Toy/vote_player_server/data/candidates/AHNCHEOLSOO.json\"\n",
    "\n",
    "with open(file_path, 'r') as file:\n",
    "    data = json.load(file)\n",
    "\n",
    "# 'data'는 'bills' 리스트를 포함하는 로드된 JSON 데이터라고 가정합니다.\n",
    "bills = data['bills']\n",
    "\n",
    "# 각 법안의 \"name\" 필드에서 키워드 추출\n",
    "keywords = [word for bill in bills for word in bill['committee'].split()]\n",
    "\n",
    "# 각 키워드의 발생 횟수를 계산\n",
    "keyword_counts = Counter(keywords)\n",
    "\n",
    "# 가장 흔한 키워드를 표시\n",
    "most_common_keywords = keyword_counts.most_common()\n",
    "\n",
    "print(most_common_keywords)\n"
   ]
  },
  {
   "cell_type": "code",
   "execution_count": null,
   "id": "511e7167-ed16-46f0-86c4-2dac1aac3143",
   "metadata": {},
   "outputs": [],
   "source": []
  }
 ],
 "metadata": {
  "kernelspec": {
   "display_name": "Python 3 (ipykernel)",
   "language": "python",
   "name": "python3"
  },
  "language_info": {
   "codemirror_mode": {
    "name": "ipython",
    "version": 3
   },
   "file_extension": ".py",
   "mimetype": "text/x-python",
   "name": "python",
   "nbconvert_exporter": "python",
   "pygments_lexer": "ipython3",
   "version": "3.12.1"
  }
 },
 "nbformat": 4,
 "nbformat_minor": 5
}
