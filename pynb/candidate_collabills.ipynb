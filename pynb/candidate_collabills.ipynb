{
 "cells": [
  {
   "cell_type": "markdown",
   "id": "25a646e7-da39-4999-9506-196d02a8cca6",
   "metadata": {},
   "source": [
    "법안별 위원회 이름 count 추출 코드"
   ]
  },
  {
   "cell_type": "code",
   "execution_count": 45,
   "id": "90d80ded-b46c-4042-b972-7854b3aa6c13",
   "metadata": {},
   "outputs": [
    {
     "ename": "AttributeError",
     "evalue": "'NoneType' object has no attribute 'split'",
     "output_type": "error",
     "traceback": [
      "\u001b[0;31m---------------------------------------------------------------------------\u001b[0m",
      "\u001b[0;31mAttributeError\u001b[0m                            Traceback (most recent call last)",
      "Cell \u001b[0;32mIn[45], line 13\u001b[0m\n\u001b[1;32m     10\u001b[0m bills \u001b[38;5;241m=\u001b[39m data[\u001b[38;5;124m'\u001b[39m\u001b[38;5;124mcollabills\u001b[39m\u001b[38;5;124m'\u001b[39m]\n\u001b[1;32m     12\u001b[0m \u001b[38;5;66;03m# 각 법안의 \"name\" 필드에서 키워드 추출\u001b[39;00m\n\u001b[0;32m---> 13\u001b[0m keywords \u001b[38;5;241m=\u001b[39m [word \u001b[38;5;28;01mfor\u001b[39;00m bill \u001b[38;5;129;01min\u001b[39;00m bills \u001b[38;5;28;01mfor\u001b[39;00m word \u001b[38;5;129;01min\u001b[39;00m \u001b[43mbill\u001b[49m\u001b[43m[\u001b[49m\u001b[38;5;124;43m'\u001b[39;49m\u001b[38;5;124;43mcommittee\u001b[39;49m\u001b[38;5;124;43m'\u001b[39;49m\u001b[43m]\u001b[49m\u001b[38;5;241;43m.\u001b[39;49m\u001b[43msplit\u001b[49m()]\n\u001b[1;32m     15\u001b[0m \u001b[38;5;66;03m# 각 키워드의 발생 횟수를 계산\u001b[39;00m\n\u001b[1;32m     16\u001b[0m keyword_counts \u001b[38;5;241m=\u001b[39m Counter(keywords)\n",
      "\u001b[0;31mAttributeError\u001b[0m: 'NoneType' object has no attribute 'split'"
     ]
    }
   ],
   "source": [
    "import json\n",
    "from collections import Counter\n",
    "\n",
    "file_path = \"/Users/seunghyunmoon/Code/Toy/vote_player_server/data/candidates/KANGDAESIK.json\"\n",
    "\n",
    "with open(file_path, 'r') as file:\n",
    "    data = json.load(file)\n",
    "\n",
    "# 'data'는 'collabills' 리스트를 포함하는 로드된 JSON 데이터라고 가정합니다.\n",
    "bills = data['collabills']\n",
    "\n",
    "# 각 법안의 \"name\" 필드에서 키워드 추출\n",
    "keywords = [word for bill in bills for word in bill['committee'].split()]\n",
    "\n",
    "# 각 키워드의 발생 횟수를 계산\n",
    "keyword_counts = Counter(keywords)\n",
    "\n",
    "# 가장 흔한 키워드를 표시\n",
    "most_common_keywords = keyword_counts.most_common()\n",
    "\n",
    "print(most_common_keywords)\n"
   ]
  },
  {
   "cell_type": "code",
   "execution_count": 46,
   "id": "511e7167-ed16-46f0-86c4-2dac1aac3143",
   "metadata": {},
   "outputs": [
    {
     "name": "stdout",
     "output_type": "stream",
     "text": [
      "Counter({'행정안전위원회': 3139, '기획재정위원회': 2463, '보건복지위원회': 2454, '법제사법위원회': 2194, '국토교통위원회': 2065, '환경노동위원회': 1984, '정무위원회': 1818, None: 1542, '산업통상자원중소벤처기업위원회': 1425, '농림축산식품해양수산위원회': 1175, '교육위원회': 995, '과학기술정보방송통신위원회': 945, '문화체육관광위원회': 695, '국회운영위원회': 615, '국방위원회': 570, '여성가족위원회': 361, '외교통일위원회': 302, '안전행정위원회': 174, '국토해양위원회': 173, '교육과학기술위원회': 169, '문화체육관광방송통신위원회': 149, '정치개혁특별위원회': 115, '지식경제위원회': 103, '교육문화체육관광위원회': 101, '농림수산식품위원회': 95, '산업통상자원위원회': 64, '정치개혁 특별위원회': 51, '정보위원회': 50, '외교통상통일위원회': 36, '미래창조과학방송통신위원회': 21, '보건복지가족위원회': 9, '아동·여성대상 성폭력 대책 특별위원회': 9, '국제경기대회개최 및 유치지원특별위원회': 6, '민생경제안정 특별위원회': 5, '평창동계올림픽 및 국제경기대회지원특별위원회': 4, '공무원연금개혁 특별위원회': 4, '기후변화대책특별위원회': 3, '국제경기대회(세계육상선수권대회, 아시아경기대회, 포뮬러원국제자동차경주대회)지원특별위원회': 2, '국회법및국회상임위원회위원정수에관한규칙개정특별위원회': 2, '저출산고령화대책특별위원회': 2, '헌법개정 및 정치개혁 특별위원회': 2, '사법제도개혁특별위원회': 2})\n"
     ]
    }
   ],
   "source": [
    "import os\n",
    "import json\n",
    "from collections import Counter\n",
    "\n",
    "# Path to the directory containing the candidate JSON files\n",
    "directory_path = \"/Users/seunghyunmoon/Code/Toy/vote_player_server/data/candidates\"\n",
    "\n",
    "# Initialize a Counter to keep track of committee occurrences\n",
    "committee_counts = Counter()\n",
    "\n",
    "# Iterate over each file in the directory\n",
    "for filename in os.listdir(directory_path):\n",
    "    if filename.endswith(\".json\"):\n",
    "        file_path = os.path.join(directory_path, filename)\n",
    "        with open(file_path, 'r') as file:\n",
    "            data = json.load(file)\n",
    "            # Extract the 'committee' field from each bill\n",
    "            committees = [bill['committee'] for bill in data['collabills']]\n",
    "            # Update the Counter with the committees from this file\n",
    "            committee_counts.update(committees)\n",
    "\n",
    "# Print the count of each committee\n",
    "print(committee_counts)"
   ]
  },
  {
   "cell_type": "code",
   "execution_count": 48,
   "id": "0c0cdb7a-2966-4790-a2b4-27b4703af77c",
   "metadata": {},
   "outputs": [
    {
     "name": "stdout",
     "output_type": "stream",
     "text": [
      "KangSeungKyoo.json: Counter({None: 353, '문화체육관광방송통신위원회': 64, '기획재정위원회': 58, '행정안전위원회': 56, '산업통상자원중소벤처기업위원회': 42, '법제사법위원회': 34, '정무위원회': 30, '보건복지위원회': 24, '국토해양위원회': 22, '과학기술정보방송통신위원회': 16, '농림축산식품해양수산위원회': 16, '환경노동위원회': 15, '국회운영위원회': 13, '국토교통위원회': 13, '국방위원회': 11, '정치개혁특별위원회': 11, '교육위원회': 9, '문화체육관광위원회': 7, '농림수산식품위원회': 6, '지식경제위원회': 6, '여성가족위원회': 5, '교육과학기술위원회': 5, '외교통일위원회': 3, '평창동계올림픽 및 국제경기대회지원특별위원회': 2, '외교통상통일위원회': 2, '보건복지가족위원회': 1, '정보위원회': 1, '국제경기대회(세계육상선수권대회, 아시아경기대회, 포뮬러원국제자동차경주대회)지원특별위원회': 1, '국회법및국회상임위원회위원정수에관한규칙개정특별위원회': 1})\n",
      "KANGYUJUNG.json: Counter({'행정안전위원회': 44, '법제사법위원회': 41, '기획재정위원회': 38, '환경노동위원회': 34, '교육위원회': 26, '정무위원회': 24, '과학기술정보방송통신위원회': 22, '보건복지위원회': 20, '농림축산식품해양수산위원회': 19, '문화체육관광위원회': 18, '국회운영위원회': 17, '산업통상자원중소벤처기업위원회': 17, '국토교통위원회': 13, '외교통일위원회': 7, '여성가족위원회': 6, None: 2, '국방위원회': 2})\n",
      "KANGKYUNGSOOK.json: Counter({'법제사법위원회': 36, '정무위원회': 27, '보건복지위원회': 22, '행정안전위원회': 20, '문화체육관광위원회': 19, '기획재정위원회': 18, '국회운영위원회': 15, '교육위원회': 14, '환경노동위원회': 12, '과학기술정보방송통신위원회': 9, '국토교통위원회': 8, '산업통상자원중소벤처기업위원회': 5, '농림축산식품해양수산위원회': 5, '외교통일위원회': 4, '여성가족위원회': 3, '국방위원회': 2, None: 1})\n",
      "KWAKKYUTAEK.json: Counter({'법제사법위원회': 57, '행정안전위원회': 53, '환경노동위원회': 34, '교육위원회': 32, '기획재정위원회': 30, '국토교통위원회': 29, '농림축산식품해양수산위원회': 27, '보건복지위원회': 26, '정무위원회': 14, '산업통상자원중소벤처기업위원회': 13, '여성가족위원회': 8, '국회운영위원회': 6, '외교통일위원회': 5, '과학기술정보방송통신위원회': 5, '국방위원회': 4, '문화체육관광위원회': 4, None: 2, '정보위원회': 1})\n",
      "KIMNAMGEUN.json: Counter({'정무위원회': 79, '환경노동위원회': 76, '법제사법위원회': 56, '행정안전위원회': 42, '보건복지위원회': 40, '국토교통위원회': 35, '과학기술정보방송통신위원회': 35, '산업통상자원중소벤처기업위원회': 34, '기획재정위원회': 22, '교육위원회': 21, '국회운영위원회': 18, '국방위원회': 15, '농림축산식품해양수산위원회': 12, None: 6, '여성가족위원회': 5, '문화체육관광위원회': 2, '외교통일위원회': 2})\n",
      "KANGSUNYOUNG.json: Counter({'행정안전위원회': 50, '국토교통위원회': 30, '환경노동위원회': 27, '국방위원회': 26, '보건복지위원회': 25, '법제사법위원회': 22, '기획재정위원회': 19, '정무위원회': 18, '농림축산식품해양수산위원회': 16, '국회운영위원회': 12, '외교통일위원회': 11, '산업통상자원중소벤처기업위원회': 11, '교육위원회': 11, '과학기술정보방송통신위원회': 8, '문화체육관광위원회': 6, '여성가족위원회': 4, None: 2})\n",
      "KWONHYANGYUP.json: Counter({'법제사법위원회': 27, '행정안전위원회': 25, '산업통상자원중소벤처기업위원회': 21, '과학기술정보방송통신위원회': 17, '환경노동위원회': 16, None: 14, '보건복지위원회': 13, '정무위원회': 9, '농림축산식품해양수산위원회': 8, '기획재정위원회': 7, '여성가족위원회': 7, '국토교통위원회': 6, '문화체육관광위원회': 6, '외교통일위원회': 5, '교육위원회': 5, '국회운영위원회': 2, '국방위원회': 2})\n",
      "KANGMINKUK.json: Counter({'행정안전위원회': 94, '국토교통위원회': 61, '정무위원회': 46, '산업통상자원중소벤처기업위원회': 45, '기획재정위원회': 42, '법제사법위원회': 39, '보건복지위원회': 37, '농림축산식품해양수산위원회': 30, '과학기술정보방송통신위원회': 25, '환경노동위원회': 16, '문화체육관광위원회': 13, '국방위원회': 10, '교육위원회': 9, '국회운영위원회': 9, '정치개혁 특별위원회': 6, '외교통일위원회': 5, '여성가족위원회': 3, '정치개혁특별위원회': 1})\n",
      "KWONYOUNGSE.json: Counter({None: 363, '행정안전위원회': 148, '기획재정위원회': 107, '보건복지위원회': 84, '국토교통위원회': 80, '정무위원회': 65, '법제사법위원회': 64, '환경노동위원회': 60, '농림축산식품해양수산위원회': 41, '국회운영위원회': 33, '산업통상자원중소벤처기업위원회': 32, '과학기술정보방송통신위원회': 32, '외교통일위원회': 27, '국방위원회': 27, '교육위원회': 22, '국토해양위원회': 18, '여성가족위원회': 17, '문화체육관광방송통신위원회': 15, '지식경제위원회': 12, '문화체육관광위원회': 11, '정치개혁특별위원회': 7, '외교통상통일위원회': 7, '교육과학기술위원회': 5, '정치개혁 특별위원회': 3, '농림수산식품위원회': 3, '저출산고령화대책특별위원회': 2, '국회법및국회상임위원회위원정수에관한규칙개정특별위원회': 1})\n",
      "KIMDAISIK.json: Counter({'교육위원회': 47, '기획재정위원회': 33, '행정안전위원회': 32, '보건복지위원회': 22, '환경노동위원회': 19, '법제사법위원회': 19, '산업통상자원중소벤처기업위원회': 11, '정무위원회': 9, '국토교통위원회': 8, '국방위원회': 6, '국회운영위원회': 5, '농림축산식품해양수산위원회': 5, '여성가족위원회': 4, '과학기술정보방송통신위원회': 4, '문화체육관광위원회': 4, None: 2})\n",
      "KANGSUNWOO.json: Counter({'보건복지위원회': 250, '환경노동위원회': 137, '국토교통위원회': 133, '행정안전위원회': 124, '기획재정위원회': 110, '법제사법위원회': 101, '산업통상자원중소벤처기업위원회': 74, '정무위원회': 74, '농림축산식품해양수산위원회': 62, '교육위원회': 61, '과학기술정보방송통신위원회': 51, '문화체육관광위원회': 44, '국회운영위원회': 32, '국방위원회': 24, '여성가족위원회': 20, '정보위원회': 4, '정치개혁 특별위원회': 4, None: 3, '정치개혁특별위원회': 3, '외교통일위원회': 2, '민생경제안정 특별위원회': 1})\n",
      "KIMKYOHEUNG.json: Counter({'국토교통위원회': 141, '행정안전위원회': 106, '기획재정위원회': 93, '산업통상자원중소벤처기업위원회': 85, '법제사법위원회': 83, '보건복지위원회': 82, '정무위원회': 71, '환경노동위원회': 67, '교육위원회': 45, '농림축산식품해양수산위원회': 42, '문화체육관광위원회': 34, '과학기술정보방송통신위원회': 30, '국방위원회': 22, '국회운영위원회': 17, '외교통일위원회': 14, '여성가족위원회': 11, None: 3, '정치개혁 특별위원회': 3, '정치개혁특별위원회': 1})\n",
      "KANGJUNHYEON.json: Counter({'행정안전위원회': 205, '보건복지위원회': 177, '정무위원회': 154, '법제사법위원회': 147, '기획재정위원회': 146, '국토교통위원회': 146, '환경노동위원회': 92, '산업통상자원중소벤처기업위원회': 81, '교육위원회': 80, '과학기술정보방송통신위원회': 55, '국회운영위원회': 38, '문화체육관광위원회': 38, '농림축산식품해양수산위원회': 33, '국방위원회': 27, '여성가족위원회': 21, None: 17, '외교통일위원회': 12, '정보위원회': 8, '정치개혁특별위원회': 5, '정치개혁 특별위원회': 2})\n",
      "KANGDAESIK.json: Counter({'행정안전위원회': 195, '국토교통위원회': 142, '기획재정위원회': 140, '법제사법위원회': 114, '정무위원회': 99, '환경노동위원회': 94, '보건복지위원회': 73, '산업통상자원중소벤처기업위원회': 64, '국방위원회': 50, '과학기술정보방송통신위원회': 50, '교육위원회': 47, '농림축산식품해양수산위원회': 46, '국회운영위원회': 40, '문화체육관광위원회': 35, '여성가족위원회': 23, '외교통일위원회': 22, '정치개혁 특별위원회': 11, None: 2, '민생경제안정 특별위원회': 2, '정보위원회': 1})\n",
      "KANGHOONSIK.json: Counter({'국토교통위원회': 300, '행정안전위원회': 284, '환경노동위원회': 241, '보건복지위원회': 223, '법제사법위원회': 215, '기획재정위원회': 199, '산업통상자원중소벤처기업위원회': 165, '정무위원회': 133, '문화체육관광위원회': 101, '농림축산식품해양수산위원회': 94, '과학기술정보방송통신위원회': 77, '교육위원회': 54, '국방위원회': 50, '국회운영위원회': 41, '여성가족위원회': 37, '외교통일위원회': 18, None: 17, '교육문화체육관광위원회': 13, '정치개혁특별위원회': 12, '정보위원회': 3, '정치개혁 특별위원회': 3, '안전행정위원회': 3, '헌법개정 및 정치개혁 특별위원회': 2, '산업통상자원위원회': 2})\n",
      "KWONCHILSEUNG.json: Counter({'행정안전위원회': 311, '기획재정위원회': 302, '보건복지위원회': 301, '법제사법위원회': 260, '환경노동위원회': 242, '정무위원회': 219, '국토교통위원회': 189, '산업통상자원중소벤처기업위원회': 186, '농림축산식품해양수산위원회': 169, '과학기술정보방송통신위원회': 128, '문화체육관광위원회': 114, '교육위원회': 105, '국회운영위원회': 46, '여성가족위원회': 42, '외교통일위원회': 41, '국방위원회': 39, None: 17, '안전행정위원회': 15, '정치개혁특별위원회': 13, '교육문화체육관광위원회': 11, '산업통상자원위원회': 7, '정보위원회': 6, '정치개혁 특별위원회': 2, '미래창조과학방송통신위원회': 2})\n",
      "KIMNAMHEE.json: Counter({'보건복지위원회': 75, '기획재정위원회': 39, '정무위원회': 35, '환경노동위원회': 29, '행정안전위원회': 29, '국토교통위원회': 26, '법제사법위원회': 25, '과학기술정보방송통신위원회': 23, '산업통상자원중소벤처기업위원회': 16, '교육위원회': 14, '국회운영위원회': 13, '농림축산식품해양수산위원회': 9, '여성가족위원회': 8, '국방위원회': 6, '문화체육관광위원회': 6, '외교통일위원회': 4, None: 3})\n",
      "KwonYoungJin.json: Counter({None: 366, '기획재정위원회': 141, '보건복지위원회': 137, '행정안전위원회': 122, '교육과학기술위원회': 116, '정무위원회': 92, '국토해양위원회': 89, '법제사법위원회': 68, '환경노동위원회': 44, '문화체육관광방송통신위원회': 44, '지식경제위원회': 41, '농림수산식품위원회': 39, '국토교통위원회': 32, '국회운영위원회': 28, '농림축산식품해양수산위원회': 25, '여성가족위원회': 24, '외교통상통일위원회': 20, '정치개혁특별위원회': 16, '과학기술정보방송통신위원회': 15, '국방위원회': 12, '문화체육관광위원회': 8, '보건복지가족위원회': 7, '외교통일위원회': 5, '국제경기대회개최 및 유치지원특별위원회': 4, '산업통상자원중소벤처기업위원회': 3, '교육위원회': 3, '정보위원회': 3, '평창동계올림픽 및 국제경기대회지원특별위원회': 2, '사법제도개혁특별위원회': 2, '기후변화대책특별위원회': 1, '국제경기대회(세계육상선수권대회, 아시아경기대회, 포뮬러원국제자동차경주대회)지원특별위원회': 1})\n",
      "KUJAKEUN.json: Counter({'행정안전위원회': 361, '기획재정위원회': 243, '보건복지위원회': 233, '국토교통위원회': 218, '농림축산식품해양수산위원회': 216, '환경노동위원회': 192, '정무위원회': 184, '법제사법위원회': 168, '산업통상자원중소벤처기업위원회': 166, '문화체육관광위원회': 86, '교육위원회': 82, '과학기술정보방송통신위원회': 68, '국회운영위원회': 51, '국방위원회': 37, '여성가족위원회': 29, '외교통일위원회': 26, '정치개혁특별위원회': 12, '정보위원회': 4, '정치개혁 특별위원회': 4})\n",
      "KANGMYOUNGGU.json: Counter({'기획재정위원회': 24, '정무위원회': 16, '환경노동위원회': 14, '행정안전위원회': 13, '산업통상자원중소벤처기업위원회': 11, '보건복지위원회': 8, '국토교통위원회': 7, '국회운영위원회': 6, '과학기술정보방송통신위원회': 4, '법제사법위원회': 3, '외교통일위원회': 2, '농림축산식품해양수산위원회': 1, '여성가족위원회': 1, '문화체육관광위원회': 1})\n",
      "KWEONSEONGDONG.json: Counter({'기획재정위원회': 288, '행정안전위원회': 268, '법제사법위원회': 216, '보건복지위원회': 192, '환경노동위원회': 190, '정무위원회': 170, '국토교통위원회': 163, '안전행정위원회': 144, '농림축산식품해양수산위원회': 132, '산업통상자원중소벤처기업위원회': 113, '과학기술정보방송통신위원회': 87, '국방위원회': 84, '교육문화체육관광위원회': 71, '산업통상자원위원회': 53, '국회운영위원회': 52, '교육위원회': 48, '외교통일위원회': 34, '여성가족위원회': 29, '문화체육관광위원회': 26, '지식경제위원회': 23, '농림수산식품위원회': 20, '교육과학기술위원회': 20, '국토해양위원회': 16, '정보위원회': 14, '미래창조과학방송통신위원회': 12, '정치개혁특별위원회': 10, '아동·여성대상 성폭력 대책 특별위원회': 9, '문화체육관광방송통신위원회': 7, '공무원연금개혁 특별위원회': 4, '정치개혁 특별위원회': 3, '외교통상통일위원회': 2, '국제경기대회개최 및 유치지원특별위원회': 2, None: 1})\n",
      "KIMGUNN.json: Counter({'행정안전위원회': 31, '보건복지위원회': 19, '법제사법위원회': 15, '산업통상자원중소벤처기업위원회': 14, '국토교통위원회': 13, '환경노동위원회': 12, '기획재정위원회': 11, '교육위원회': 11, '농림축산식품해양수산위원회': 11, '국회운영위원회': 10, '정무위원회': 9, '과학기술정보방송통신위원회': 8, '외교통일위원회': 7, '국방위원회': 4, '여성가족위원회': 3, '정보위원회': 1, '문화체육관광위원회': 1})\n",
      "KIMGIHYEON.json: Counter({None: 355, '행정안전위원회': 142, '기획재정위원회': 115, '보건복지위원회': 107, '정무위원회': 83, '환경노동위원회': 66, '산업통상자원중소벤처기업위원회': 66, '법제사법위원회': 64, '국토교통위원회': 58, '교육위원회': 37, '국방위원회': 36, '과학기술정보방송통신위원회': 33, '문화체육관광위원회': 31, '국회운영위원회': 30, '국토해양위원회': 28, '농림수산식품위원회': 27, '농림축산식품해양수산위원회': 24, '교육과학기술위원회': 23, '지식경제위원회': 21, '외교통일위원회': 19, '문화체육관광방송통신위원회': 19, '여성가족위원회': 14, '안전행정위원회': 12, '정치개혁특별위원회': 8, '미래창조과학방송통신위원회': 7, '교육문화체육관광위원회': 6, '외교통상통일위원회': 5, '정치개혁 특별위원회': 3, '정보위원회': 2, '산업통상자원위원회': 2, '기후변화대책특별위원회': 2, '보건복지가족위원회': 1})\n",
      "KWAKSANGEON.json: Counter({'법제사법위원회': 21, '행정안전위원회': 6, '산업통상자원중소벤처기업위원회': 4, None: 2, '농림축산식품해양수산위원회': 2, '국회운영위원회': 2, '기획재정위원회': 1, '문화체육관광위원회': 1, '정무위원회': 1})\n",
      "KOMINJUNG.json: Counter({'행정안전위원회': 82, '법제사법위원회': 64, '보건복지위원회': 57, '과학기술정보방송통신위원회': 38, '국토교통위원회': 35, '환경노동위원회': 33, '기획재정위원회': 28, '교육위원회': 25, '국회운영위원회': 23, '문화체육관광위원회': 20, '농림축산식품해양수산위원회': 20, '산업통상자원중소벤처기업위원회': 17, '국방위원회': 12, '정무위원회': 10, '여성가족위원회': 7, '외교통일위원회': 3, '정치개혁특별위원회': 3, None: 2, '정치개혁 특별위원회': 1})\n",
      "KIMKIWOONG.json: Counter({'국토교통위원회': 23, '환경노동위원회': 20, '과학기술정보방송통신위원회': 12, '농림축산식품해양수산위원회': 12, '외교통일위원회': 10, '보건복지위원회': 10, '정무위원회': 10, '기획재정위원회': 9, '행정안전위원회': 8, '국방위원회': 6, '교육위원회': 5, '법제사법위원회': 4, '문화체육관광위원회': 4, '국회운영위원회': 2, '정보위원회': 2, '여성가족위원회': 2, '산업통상자원중소벤처기업위원회': 1})\n",
      "KOHDONGJIN.json: Counter({'행정안전위원회': 64, '환경노동위원회': 61, '기획재정위원회': 56, '보건복지위원회': 43, '법제사법위원회': 38, '산업통상자원중소벤처기업위원회': 35, '정무위원회': 34, '국토교통위원회': 31, '농림축산식품해양수산위원회': 24, '국방위원회': 22, '교육위원회': 19, '국회운영위원회': 12, '문화체육관광위원회': 10, '과학기술정보방송통신위원회': 8, '외교통일위원회': 7, '여성가족위원회': 6})\n",
      "KANGDEUKGU.json: Counter({'행정안전위원회': 214, '법제사법위원회': 173, '교육위원회': 153, '보건복지위원회': 143, '기획재정위원회': 138, '환경노동위원회': 130, '국토교통위원회': 111, '정무위원회': 85, '산업통상자원중소벤처기업위원회': 83, '과학기술정보방송통신위원회': 68, '농림축산식품해양수산위원회': 66, '국회운영위원회': 42, '문화체육관광위원회': 37, '국방위원회': 23, '여성가족위원회': 22, '정치개혁특별위원회': 13, '외교통일위원회': 7, '정치개혁 특별위원회': 6, None: 3, '민생경제안정 특별위원회': 2})\n",
      "KIMGIPYO.json: Counter({'법제사법위원회': 20, '정무위원회': 18, '과학기술정보방송통신위원회': 17, '국토교통위원회': 14, '국방위원회': 11, '보건복지위원회': 11, '환경노동위원회': 11, '행정안전위원회': 10, '교육위원회': 10, '산업통상자원중소벤처기업위원회': 10, '농림축산식품해양수산위원회': 8, '문화체육관광위원회': 8, None: 6, '기획재정위원회': 6})\n"
     ]
    }
   ],
   "source": [
    "import os\n",
    "import json\n",
    "from collections import Counter\n",
    "\n",
    "# Path to the directory containing the candidate JSON files\n",
    "directory_path = \"/Users/seunghyunmoon/Code/Toy/vote_player_server/data/candidates\"\n",
    "\n",
    "# Function to count committees in the 'collabills' field of a JSON file\n",
    "def count_committees_in_file(file_path):\n",
    "    with open(file_path, 'r') as file:\n",
    "        data = json.load(file)\n",
    "        committees = [bill['committee'] for bill in data['collabills']]\n",
    "        return Counter(committees)\n",
    "\n",
    "# Dictionary to hold committee counts for each candidate\n",
    "all_committee_counts = {}\n",
    "\n",
    "# Iterate over each file in the directory\n",
    "for filename in os.listdir(directory_path):\n",
    "    if filename.endswith(\".json\"):\n",
    "        file_path = os.path.join(directory_path, filename)\n",
    "        all_committee_counts[filename] = count_committees_in_file(file_path)\n",
    "\n",
    "# Print the count of each committee for each candidate\n",
    "for candidate, counts in all_committee_counts.items():\n",
    "    print(f\"{candidate}: {counts}\")"
   ]
  },
  {
   "cell_type": "markdown",
   "id": "958a0531-5e75-4aa9-9b24-4daa69a0e35a",
   "metadata": {},
   "source": [
    "billsStatistics 컬럼 json 파일 업데이트 코드"
   ]
  },
  {
   "cell_type": "code",
   "execution_count": 49,
   "id": "7f52a47f-0f67-4be4-9901-7b98708ce310",
   "metadata": {},
   "outputs": [],
   "source": [
    "import os\n",
    "import json\n",
    "from collections import Counter\n",
    "\n",
    "# Path to the directory containing the candidate JSON files\n",
    "input_directory_path = \"/Users/seunghyunmoon/Code/Toy/vote_player_server/data/candidates\"\n",
    "output_directory_path = \"/Users/seunghyunmoon/Code/Toy/vote_player_server/data/candidates2\"\n",
    "\n",
    "# Ensure the output directory exists\n",
    "if not os.path.exists(output_directory_path):\n",
    "    os.makedirs(output_directory_path)\n",
    "\n",
    "# Function to add billsStatistics to the JSON data\n",
    "def add_bills_statistics_to_data(data):\n",
    "    committees = [bill['committee'] for bill in data['collabills'] if bill.get('committee') and bill['committee'] != None]\n",
    "    committee_counts = Counter(committees)\n",
    "    # Convert the committee counts to the specified format and sort by value\n",
    "    bills_statistics = [{\"name\": committee, \"value\": count} for committee, count in committee_counts.items()]\n",
    "    bills_statistics.sort(key=lambda x: x['value'], reverse=True)\n",
    "    data['collabillsStatistics'] = bills_statistics\n",
    "    return data\n",
    "\n",
    "# Iterate over each file in the directory\n",
    "for filename in os.listdir(input_directory_path):\n",
    "    if filename.endswith(\".json\"):\n",
    "        input_file_path = os.path.join(input_directory_path, filename)\n",
    "        output_file_path = os.path.join(output_directory_path, filename)\n",
    "        \n",
    "        with open(input_file_path, 'r', encoding='utf-8') as file:\n",
    "            data = json.load(file)\n",
    "        \n",
    "        updated_data = add_bills_statistics_to_data(data)\n",
    "        \n",
    "        with open(output_file_path, 'w', encoding='utf-8') as file:\n",
    "            json.dump(updated_data, file, ensure_ascii=False, indent=4)\n"
   ]
  },
  {
   "cell_type": "markdown",
   "id": "0f64aa39-bd90-487a-87ca-19aaf41ce2dc",
   "metadata": {},
   "source": [
    "billsStatistics 필드의 unique name을 추출하는 코드"
   ]
  },
  {
   "cell_type": "code",
   "execution_count": 50,
   "id": "40accf92-4c88-4e70-9ba0-b720bcc02266",
   "metadata": {},
   "outputs": [
    {
     "name": "stdout",
     "output_type": "stream",
     "text": [
      "set()\n"
     ]
    }
   ],
   "source": [
    "import os\n",
    "import json\n",
    "\n",
    "# Path to the directory containing the candidate JSON files\n",
    "directory_path = \"/Users/seunghyunmoon/Code/Toy/vote_player_server/data/candidates\"\n",
    "\n",
    "# Set to store unique committee names\n",
    "unique_committee_names = set()\n",
    "\n",
    "# Iterate over each file in the directory\n",
    "for filename in os.listdir(directory_path):\n",
    "    if filename.endswith(\".json\"):\n",
    "        file_path = os.path.join(directory_path, filename)\n",
    "        with open(file_path, 'r', encoding='utf-8') as file:\n",
    "            data = json.load(file)\n",
    "            # Extract the 'name' field from each entry in billsStatistics\n",
    "            committee_names = [entry['name'] for entry in data.get('collabillsStatistics', [])]\n",
    "            # Update the set with the committee names from this file\n",
    "            unique_committee_names.update(committee_names)\n",
    "\n",
    "# Print the unique committee names\n",
    "print(unique_committee_names)"
   ]
  },
  {
   "cell_type": "code",
   "execution_count": null,
   "id": "a6de7325-28d8-487b-ab2b-f2a2ed7e52bf",
   "metadata": {},
   "outputs": [],
   "source": []
  }
 ],
 "metadata": {
  "kernelspec": {
   "display_name": "Python 3 (ipykernel)",
   "language": "python",
   "name": "python3"
  },
  "language_info": {
   "codemirror_mode": {
    "name": "ipython",
    "version": 3
   },
   "file_extension": ".py",
   "mimetype": "text/x-python",
   "name": "python",
   "nbconvert_exporter": "python",
   "pygments_lexer": "ipython3",
   "version": "3.12.1"
  }
 },
 "nbformat": 4,
 "nbformat_minor": 5
}
